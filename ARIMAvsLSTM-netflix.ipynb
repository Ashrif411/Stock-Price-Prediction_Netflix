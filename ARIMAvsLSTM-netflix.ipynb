{
 "cells": [
  {
   "cell_type": "markdown",
   "id": "c02ba845",
   "metadata": {
    "papermill": {
     "duration": 0.004327,
     "end_time": "2025-10-03T06:45:44.055412",
     "exception": false,
     "start_time": "2025-10-03T06:45:44.051085",
     "status": "completed"
    },
    "tags": []
   },
   "source": [
    "**ARIMA MODEL**"
   ]
  },
  {
   "cell_type": "code",
   "execution_count": 1,
   "id": "9664dd95",
   "metadata": {
    "execution": {
     "iopub.execute_input": "2025-10-03T06:45:44.064284Z",
     "iopub.status.busy": "2025-10-03T06:45:44.063899Z",
     "iopub.status.idle": "2025-10-03T06:45:48.148879Z",
     "shell.execute_reply": "2025-10-03T06:45:48.147920Z"
    },
    "papermill": {
     "duration": 4.091644,
     "end_time": "2025-10-03T06:45:48.150896",
     "exception": false,
     "start_time": "2025-10-03T06:45:44.059252",
     "status": "completed"
    },
    "tags": []
   },
   "outputs": [],
   "source": [
    "import pandas as pd\n",
    "import numpy as np\n",
    "import matplotlib.pyplot as plt\n",
    "from statsmodels.tsa.arima.model import ARIMA\n",
    "from sklearn.metrics import mean_squared_error"
   ]
  },
  {
   "cell_type": "code",
   "execution_count": 2,
   "id": "a9a148b2",
   "metadata": {
    "execution": {
     "iopub.execute_input": "2025-10-03T06:45:48.163386Z",
     "iopub.status.busy": "2025-10-03T06:45:48.162372Z",
     "iopub.status.idle": "2025-10-03T06:45:48.198292Z",
     "shell.execute_reply": "2025-10-03T06:45:48.197279Z"
    },
    "papermill": {
     "duration": 0.042944,
     "end_time": "2025-10-03T06:45:48.200101",
     "exception": false,
     "start_time": "2025-10-03T06:45:48.157157",
     "status": "completed"
    },
    "tags": []
   },
   "outputs": [],
   "source": [
    "# Load the dataset\n",
    "data = pd.read_csv('/kaggle/input/netflix-stock-price-prediction/NFLX.csv', parse_dates=True, index_col='Date')\n",
    "data = data['Close'].dropna()"
   ]
  },
  {
   "cell_type": "code",
   "execution_count": 3,
   "id": "0690b9c6",
   "metadata": {
    "execution": {
     "iopub.execute_input": "2025-10-03T06:45:48.208438Z",
     "iopub.status.busy": "2025-10-03T06:45:48.208126Z",
     "iopub.status.idle": "2025-10-03T06:45:48.213278Z",
     "shell.execute_reply": "2025-10-03T06:45:48.212184Z"
    },
    "papermill": {
     "duration": 0.011019,
     "end_time": "2025-10-03T06:45:48.214789",
     "exception": false,
     "start_time": "2025-10-03T06:45:48.203770",
     "status": "completed"
    },
    "tags": []
   },
   "outputs": [],
   "source": [
    "# Train-test split\n",
    "train_size = int(len(data) * 0.8)\n",
    "train, test = data[:train_size], data[train_size:]"
   ]
  },
  {
   "cell_type": "code",
   "execution_count": 4,
   "id": "aa1ea8d7",
   "metadata": {
    "execution": {
     "iopub.execute_input": "2025-10-03T06:45:48.222891Z",
     "iopub.status.busy": "2025-10-03T06:45:48.222547Z",
     "iopub.status.idle": "2025-10-03T06:45:48.641364Z",
     "shell.execute_reply": "2025-10-03T06:45:48.640577Z"
    },
    "papermill": {
     "duration": 0.424777,
     "end_time": "2025-10-03T06:45:48.643041",
     "exception": false,
     "start_time": "2025-10-03T06:45:48.218264",
     "status": "completed"
    },
    "tags": []
   },
   "outputs": [
    {
     "name": "stderr",
     "output_type": "stream",
     "text": [
      "/usr/local/lib/python3.11/dist-packages/statsmodels/tsa/base/tsa_model.py:473: ValueWarning: A date index has been provided, but it has no associated frequency information and so will be ignored when e.g. forecasting.\n",
      "  self._init_dates(dates, freq)\n",
      "/usr/local/lib/python3.11/dist-packages/statsmodels/tsa/base/tsa_model.py:473: ValueWarning: A date index has been provided, but it has no associated frequency information and so will be ignored when e.g. forecasting.\n",
      "  self._init_dates(dates, freq)\n",
      "/usr/local/lib/python3.11/dist-packages/statsmodels/tsa/base/tsa_model.py:473: ValueWarning: A date index has been provided, but it has no associated frequency information and so will be ignored when e.g. forecasting.\n",
      "  self._init_dates(dates, freq)\n"
     ]
    }
   ],
   "source": [
    "# Fit ARIMA model\n",
    "model = ARIMA(train, order=(4, 1, 0)) \n",
    "model_fit = model.fit()"
   ]
  },
  {
   "cell_type": "code",
   "execution_count": 5,
   "id": "ffae5f36",
   "metadata": {
    "execution": {
     "iopub.execute_input": "2025-10-03T06:45:48.658109Z",
     "iopub.status.busy": "2025-10-03T06:45:48.657275Z",
     "iopub.status.idle": "2025-10-03T06:45:48.676528Z",
     "shell.execute_reply": "2025-10-03T06:45:48.674390Z"
    },
    "papermill": {
     "duration": 0.027468,
     "end_time": "2025-10-03T06:45:48.678317",
     "exception": false,
     "start_time": "2025-10-03T06:45:48.650849",
     "status": "completed"
    },
    "tags": []
   },
   "outputs": [
    {
     "name": "stderr",
     "output_type": "stream",
     "text": [
      "/usr/local/lib/python3.11/dist-packages/statsmodels/tsa/base/tsa_model.py:837: ValueWarning: No supported index is available. Prediction results will be given with an integer index beginning at `start`.\n",
      "  return get_prediction_index(\n",
      "/usr/local/lib/python3.11/dist-packages/statsmodels/tsa/base/tsa_model.py:837: FutureWarning: No supported index is available. In the next version, calling this method in a model without a supported index will result in an exception.\n",
      "  return get_prediction_index(\n"
     ]
    }
   ],
   "source": [
    "# Make predictions\n",
    "forecast = model_fit.forecast(steps=len(test))"
   ]
  },
  {
   "cell_type": "code",
   "execution_count": 6,
   "id": "eb5b253e",
   "metadata": {
    "execution": {
     "iopub.execute_input": "2025-10-03T06:45:48.690819Z",
     "iopub.status.busy": "2025-10-03T06:45:48.690463Z",
     "iopub.status.idle": "2025-10-03T06:45:48.699201Z",
     "shell.execute_reply": "2025-10-03T06:45:48.698579Z"
    },
    "papermill": {
     "duration": 0.016939,
     "end_time": "2025-10-03T06:45:48.701035",
     "exception": false,
     "start_time": "2025-10-03T06:45:48.684096",
     "status": "completed"
    },
    "tags": []
   },
   "outputs": [
    {
     "name": "stdout",
     "output_type": "stream",
     "text": [
      "ARIMA RMSE: 70.68790418035384\n"
     ]
    }
   ],
   "source": [
    "# Calculate RMSE\n",
    "rmse_arima = np.sqrt(mean_squared_error(test, forecast))\n",
    "print(f\"ARIMA RMSE: {rmse_arima}\")"
   ]
  },
  {
   "cell_type": "markdown",
   "id": "ad8bbffb",
   "metadata": {
    "papermill": {
     "duration": 0.005331,
     "end_time": "2025-10-03T06:45:48.712230",
     "exception": false,
     "start_time": "2025-10-03T06:45:48.706899",
     "status": "completed"
    },
    "tags": []
   },
   "source": [
    "**LSTM Model**"
   ]
  },
  {
   "cell_type": "code",
   "execution_count": 7,
   "id": "5684b267",
   "metadata": {
    "execution": {
     "iopub.execute_input": "2025-10-03T06:45:48.726321Z",
     "iopub.status.busy": "2025-10-03T06:45:48.724448Z",
     "iopub.status.idle": "2025-10-03T06:45:53.587531Z",
     "shell.execute_reply": "2025-10-03T06:45:53.586671Z"
    },
    "papermill": {
     "duration": 4.871163,
     "end_time": "2025-10-03T06:45:53.589127",
     "exception": false,
     "start_time": "2025-10-03T06:45:48.717964",
     "status": "completed"
    },
    "tags": []
   },
   "outputs": [],
   "source": [
    "import torch\n",
    "import torch.nn as nn\n",
    "import torch.optim as optim\n",
    "from sklearn.preprocessing import MinMaxScaler\n",
    "from sklearn.metrics import mean_squared_error"
   ]
  },
  {
   "cell_type": "code",
   "execution_count": 8,
   "id": "0f21904d",
   "metadata": {
    "execution": {
     "iopub.execute_input": "2025-10-03T06:45:53.598640Z",
     "iopub.status.busy": "2025-10-03T06:45:53.597672Z",
     "iopub.status.idle": "2025-10-03T06:45:53.603040Z",
     "shell.execute_reply": "2025-10-03T06:45:53.602293Z"
    },
    "papermill": {
     "duration": 0.011863,
     "end_time": "2025-10-03T06:45:53.604746",
     "exception": false,
     "start_time": "2025-10-03T06:45:53.592883",
     "status": "completed"
    },
    "tags": []
   },
   "outputs": [],
   "source": [
    "# Scaling the data\n",
    "scaler = MinMaxScaler(feature_range=(0, 1))\n",
    "scaled_data = scaler.fit_transform(data.values.reshape(-1, 1))"
   ]
  },
  {
   "cell_type": "code",
   "execution_count": 9,
   "id": "25cc7e88",
   "metadata": {
    "execution": {
     "iopub.execute_input": "2025-10-03T06:45:53.614251Z",
     "iopub.status.busy": "2025-10-03T06:45:53.613946Z",
     "iopub.status.idle": "2025-10-03T06:45:53.621623Z",
     "shell.execute_reply": "2025-10-03T06:45:53.620910Z"
    },
    "papermill": {
     "duration": 0.013658,
     "end_time": "2025-10-03T06:45:53.623101",
     "exception": false,
     "start_time": "2025-10-03T06:45:53.609443",
     "status": "completed"
    },
    "tags": []
   },
   "outputs": [],
   "source": [
    "# Create sliding window of data\n",
    "def create_dataset(data, time_step=30):\n",
    "    X, y = [], []\n",
    "    for i in range(len(data)-time_step-1):\n",
    "        X.append(data[i:(i+time_step), 0])\n",
    "        y.append(data[i + time_step, 0])\n",
    "    return np.array(X), np.array(y)\n",
    "\n",
    "time_step = 30\n",
    "X, y = create_dataset(scaled_data, time_step)"
   ]
  },
  {
   "cell_type": "code",
   "execution_count": 10,
   "id": "d58946c0",
   "metadata": {
    "execution": {
     "iopub.execute_input": "2025-10-03T06:45:53.631489Z",
     "iopub.status.busy": "2025-10-03T06:45:53.631202Z",
     "iopub.status.idle": "2025-10-03T06:45:53.635882Z",
     "shell.execute_reply": "2025-10-03T06:45:53.635055Z"
    },
    "papermill": {
     "duration": 0.010419,
     "end_time": "2025-10-03T06:45:53.637233",
     "exception": false,
     "start_time": "2025-10-03T06:45:53.626814",
     "status": "completed"
    },
    "tags": []
   },
   "outputs": [],
   "source": [
    "# Train-test split for LSTM\n",
    "train_size = int(len(X) * 0.8)\n",
    "X_train, X_test = X[:train_size], X[train_size:]\n",
    "y_train, y_test = y[:train_size], y[train_size:]"
   ]
  },
  {
   "cell_type": "code",
   "execution_count": 11,
   "id": "984e3ad5",
   "metadata": {
    "execution": {
     "iopub.execute_input": "2025-10-03T06:45:53.648199Z",
     "iopub.status.busy": "2025-10-03T06:45:53.647883Z",
     "iopub.status.idle": "2025-10-03T06:45:53.652808Z",
     "shell.execute_reply": "2025-10-03T06:45:53.651749Z"
    },
    "papermill": {
     "duration": 0.01171,
     "end_time": "2025-10-03T06:45:53.654270",
     "exception": false,
     "start_time": "2025-10-03T06:45:53.642560",
     "status": "completed"
    },
    "tags": []
   },
   "outputs": [],
   "source": [
    "# Reshape input data for LSTM [samples, time steps, features]\n",
    "X_train = X_train.reshape(X_train.shape[0], X_train.shape[1], 1)\n",
    "X_test = X_test.reshape(X_test.shape[0], X_test.shape[1], 1)"
   ]
  },
  {
   "cell_type": "code",
   "execution_count": 12,
   "id": "22fe815e",
   "metadata": {
    "execution": {
     "iopub.execute_input": "2025-10-03T06:45:53.663638Z",
     "iopub.status.busy": "2025-10-03T06:45:53.663291Z",
     "iopub.status.idle": "2025-10-03T06:45:53.700454Z",
     "shell.execute_reply": "2025-10-03T06:45:53.699684Z"
    },
    "papermill": {
     "duration": 0.043992,
     "end_time": "2025-10-03T06:45:53.702094",
     "exception": false,
     "start_time": "2025-10-03T06:45:53.658102",
     "status": "completed"
    },
    "tags": []
   },
   "outputs": [],
   "source": [
    "# Define the LSTM Model using PyTorch\n",
    "class LSTMModel(nn.Module):\n",
    "    def __init__(self, input_size=1, hidden_layer_1=64, hidden_layer_2=64, output_size=1, dropout=0.5):\n",
    "        super(LSTMModel, self).__init__()\n",
    "        # First LSTM Layer\n",
    "        self.lstm1 = nn.LSTM(input_size=input_size, hidden_size=hidden_layer_1, batch_first=True)\n",
    "        # Second LSTM Layer\n",
    "        self.lstm2 = nn.LSTM(input_size=hidden_layer_1, hidden_size=hidden_layer_2, batch_first=True)\n",
    "        # Dense Layer\n",
    "        self.fc1 = nn.Linear(hidden_layer_2, 128)\n",
    "        self.relu = nn.ReLU()\n",
    "        # Dropout Layer\n",
    "        self.dropout = nn.Dropout(dropout)\n",
    "        # Output Layer\n",
    "        self.fc2 = nn.Linear(128, output_size)\n",
    "    \n",
    "    def forward(self, x):\n",
    "        # Passing through the first LSTM layer\n",
    "        x, _ = self.lstm1(x)\n",
    "        # Passing through the second LSTM layer\n",
    "        x, _ = self.lstm2(x)\n",
    "        # Taking the output of the last time step\n",
    "        x = x[:, -1, :]\n",
    "        # Passing through the Dense Layer\n",
    "        x = self.fc1(x)\n",
    "        # ReLU activation\n",
    "        x = self.relu(x)\n",
    "        # Dropout\n",
    "        x = self.dropout(x)\n",
    "        # Final Output Layer\n",
    "        x = self.fc2(x)\n",
    "        return x\n",
    "\n",
    "# Hyperparameters\n",
    "input_size = 1\n",
    "hidden_layer_1 = 64\n",
    "hidden_layer_2 = 64\n",
    "output_size = 1\n",
    "dropout = 0.5\n",
    "epochs = 100\n",
    "batch_size = 32\n",
    "learning_rate = 0.001\n",
    "\n",
    "# Initialize the model\n",
    "model = LSTMModel(input_size=input_size, hidden_layer_1=hidden_layer_1, hidden_layer_2=hidden_layer_2, \n",
    "                  output_size=output_size, dropout=dropout)"
   ]
  },
  {
   "cell_type": "code",
   "execution_count": 13,
   "id": "c5ac2498",
   "metadata": {
    "execution": {
     "iopub.execute_input": "2025-10-03T06:45:53.711246Z",
     "iopub.status.busy": "2025-10-03T06:45:53.710446Z",
     "iopub.status.idle": "2025-10-03T06:45:59.657811Z",
     "shell.execute_reply": "2025-10-03T06:45:59.656887Z"
    },
    "papermill": {
     "duration": 5.95348,
     "end_time": "2025-10-03T06:45:59.659412",
     "exception": false,
     "start_time": "2025-10-03T06:45:53.705932",
     "status": "completed"
    },
    "tags": []
   },
   "outputs": [],
   "source": [
    "# Loss Function and Optimizer\n",
    "criterion = nn.MSELoss()\n",
    "optimizer = optim.Adam(model.parameters(), lr=learning_rate)"
   ]
  },
  {
   "cell_type": "code",
   "execution_count": 14,
   "id": "84644f6c",
   "metadata": {
    "execution": {
     "iopub.execute_input": "2025-10-03T06:45:59.668434Z",
     "iopub.status.busy": "2025-10-03T06:45:59.667742Z",
     "iopub.status.idle": "2025-10-03T06:45:59.674194Z",
     "shell.execute_reply": "2025-10-03T06:45:59.673243Z"
    },
    "papermill": {
     "duration": 0.012557,
     "end_time": "2025-10-03T06:45:59.675755",
     "exception": false,
     "start_time": "2025-10-03T06:45:59.663198",
     "status": "completed"
    },
    "tags": []
   },
   "outputs": [],
   "source": [
    "# Convert training data to torch tensors\n",
    "X_train_tensor = torch.Tensor(X_train)  # Shape should be (batch_size, sequence_length, 1)\n",
    "y_train_tensor = torch.Tensor(y_train)\n",
    "\n",
    "X_test_tensor = torch.Tensor(X_test)\n",
    "y_test_tensor = torch.Tensor(y_test)"
   ]
  },
  {
   "cell_type": "code",
   "execution_count": 15,
   "id": "3b834dd1",
   "metadata": {
    "execution": {
     "iopub.execute_input": "2025-10-03T06:45:59.683942Z",
     "iopub.status.busy": "2025-10-03T06:45:59.683642Z",
     "iopub.status.idle": "2025-10-03T06:46:27.322386Z",
     "shell.execute_reply": "2025-10-03T06:46:27.321325Z"
    },
    "papermill": {
     "duration": 27.644794,
     "end_time": "2025-10-03T06:46:27.324142",
     "exception": false,
     "start_time": "2025-10-03T06:45:59.679348",
     "status": "completed"
    },
    "tags": []
   },
   "outputs": [
    {
     "name": "stderr",
     "output_type": "stream",
     "text": [
      "/usr/local/lib/python3.11/dist-packages/torch/nn/modules/loss.py:610: UserWarning: Using a target size (torch.Size([782])) that is different to the input size (torch.Size([782, 1])). This will likely lead to incorrect results due to broadcasting. Please ensure they have the same size.\n",
      "  return F.mse_loss(input, target, reduction=self.reduction)\n",
      "/usr/local/lib/python3.11/dist-packages/torch/nn/modules/loss.py:610: UserWarning: Using a target size (torch.Size([196])) that is different to the input size (torch.Size([196, 1])). This will likely lead to incorrect results due to broadcasting. Please ensure they have the same size.\n",
      "  return F.mse_loss(input, target, reduction=self.reduction)\n"
     ]
    },
    {
     "name": "stdout",
     "output_type": "stream",
     "text": [
      "Epoch [10/100], Train Loss: 0.0568, Validation Loss: 0.2374\n",
      "Epoch [20/100], Train Loss: 0.0413, Validation Loss: 0.1640\n",
      "Epoch [30/100], Train Loss: 0.0408, Validation Loss: 0.1946\n",
      "Epoch [40/100], Train Loss: 0.0401, Validation Loss: 0.1515\n",
      "Epoch [50/100], Train Loss: 0.0391, Validation Loss: 0.1709\n",
      "Epoch [60/100], Train Loss: 0.0394, Validation Loss: 0.1700\n",
      "Epoch [70/100], Train Loss: 0.0393, Validation Loss: 0.1631\n",
      "Epoch [80/100], Train Loss: 0.0390, Validation Loss: 0.1702\n",
      "Epoch [90/100], Train Loss: 0.0388, Validation Loss: 0.1657\n",
      "Epoch [100/100], Train Loss: 0.0384, Validation Loss: 0.1682\n"
     ]
    }
   ],
   "source": [
    "# Training Loop\n",
    "train_losses = []\n",
    "val_losses = []\n",
    "\n",
    "for epoch in range(epochs):\n",
    "    model.train()  \n",
    "    optimizer.zero_grad()\n",
    "    \n",
    "    # Forward Pass\n",
    "    output_train = model(X_train_tensor)\n",
    "    \n",
    "    # Compute Loss\n",
    "    loss_train = criterion(output_train, y_train_tensor)\n",
    "    train_losses.append(loss_train.item())\n",
    "    \n",
    "    # Backward Pass\n",
    "    loss_train.backward()\n",
    "    optimizer.step()\n",
    "    \n",
    "    model.eval()  \n",
    "    output_val = model(X_test_tensor)\n",
    "    \n",
    "    #Validation Loss\n",
    "    loss_val = criterion(output_val, y_test_tensor)\n",
    "    val_losses.append(loss_val.item())\n",
    "    \n",
    "    if (epoch + 1) % 10 == 0:\n",
    "        print(f'Epoch [{epoch+1}/{epochs}], Train Loss: {loss_train.item():.4f}, Validation Loss: {loss_val.item():.4f}')"
   ]
  },
  {
   "cell_type": "code",
   "execution_count": 16,
   "id": "02d3469a",
   "metadata": {
    "execution": {
     "iopub.execute_input": "2025-10-03T06:46:27.337407Z",
     "iopub.status.busy": "2025-10-03T06:46:27.337108Z",
     "iopub.status.idle": "2025-10-03T06:46:27.364154Z",
     "shell.execute_reply": "2025-10-03T06:46:27.363009Z"
    },
    "papermill": {
     "duration": 0.033477,
     "end_time": "2025-10-03T06:46:27.365595",
     "exception": false,
     "start_time": "2025-10-03T06:46:27.332118",
     "status": "completed"
    },
    "tags": []
   },
   "outputs": [
    {
     "name": "stdout",
     "output_type": "stream",
     "text": [
      "LSTM RMSE: 0.4095831175052651\n"
     ]
    }
   ],
   "source": [
    "# Predictions\n",
    "model.eval()  \n",
    "\n",
    "# Make Predictions on Test Data\n",
    "predictions = model(X_test_tensor).detach().numpy()\n",
    "\n",
    "# Calculate RMSE\n",
    "rmse = np.sqrt(mean_squared_error(y_test, predictions))\n",
    "print(f\"LSTM RMSE: {rmse}\")"
   ]
  }
 ],
 "metadata": {
  "kaggle": {
   "accelerator": "none",
   "dataSources": [
    {
     "datasetId": 1912819,
     "sourceId": 3141205,
     "sourceType": "datasetVersion"
    }
   ],
   "dockerImageVersionId": 31089,
   "isGpuEnabled": false,
   "isInternetEnabled": true,
   "language": "python",
   "sourceType": "notebook"
  },
  "kernelspec": {
   "display_name": "Python 3",
   "language": "python",
   "name": "python3"
  },
  "language_info": {
   "codemirror_mode": {
    "name": "ipython",
    "version": 3
   },
   "file_extension": ".py",
   "mimetype": "text/x-python",
   "name": "python",
   "nbconvert_exporter": "python",
   "pygments_lexer": "ipython3",
   "version": "3.11.13"
  },
  "papermill": {
   "default_parameters": {},
   "duration": 51.672798,
   "end_time": "2025-10-03T06:46:30.192982",
   "environment_variables": {},
   "exception": null,
   "input_path": "__notebook__.ipynb",
   "output_path": "__notebook__.ipynb",
   "parameters": {},
   "start_time": "2025-10-03T06:45:38.520184",
   "version": "2.6.0"
  }
 },
 "nbformat": 4,
 "nbformat_minor": 5
}
